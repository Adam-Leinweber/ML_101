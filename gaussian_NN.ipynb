{
 "cells": [
  {
   "cell_type": "code",
   "execution_count": null,
   "id": "1ecf02f0",
   "metadata": {},
   "outputs": [],
   "source": [
    "import numpy as np\n",
    "import tensorflow as tf\n",
    "from tensorflow import keras\n",
    "from tensorflow.keras import layers\n",
    "import matplotlib.pyplot as plt\n",
    "from sklearn.model_selection import train_test_split"
   ]
  },
  {
   "cell_type": "code",
   "execution_count": null,
   "id": "17693c85",
   "metadata": {},
   "outputs": [],
   "source": [
    "### Prepare the data ###\n",
    "N = 500\n",
    "cov = [[0.1,0],[0,0.1]]\n",
    "x_L = np.random.multivariate_normal([-1,0], cov, N)\n",
    "x_R = np.random.multivariate_normal([+1,0], cov, N)\n",
    "y_L = np.array([[1,0]]*N)\n",
    "y_R = np.array([[0,1]]*N)\n",
    "\n",
    "plt.scatter(x_L[:,0],x_L[:,1], c='b')\n",
    "plt.scatter(x_R[:,0],x_R[:,1], c='r')\n",
    "plt.show()\n",
    "\n",
    "x = np.concatenate((x_L, x_R))\n",
    "y = np.concatenate((y_L, y_R)) \n",
    "\n",
    "ratio = 0.8\n",
    "x_train, x_test, y_train, y_test = train_test_split(x, y, train_size = ratio, shuffle = True)\n",
    "\n",
    "print(\"x_train shape:\", x_train.shape)\n",
    "print(\"y_train shape:\", y_train.shape)\n",
    "print(x_train.shape[0], \"train samples\")\n",
    "print(x_test.shape[0], \"test samples\")"
   ]
  },
  {
   "cell_type": "code",
   "execution_count": null,
   "id": "d25df4a0",
   "metadata": {},
   "outputs": [],
   "source": [
    "### Build the model ###\n",
    "input_shape = (2,)\n",
    "num_classes = 2\n",
    "\n",
    "model = keras.Sequential(\n",
    "    [\n",
    "        keras.Input(shape=input_shape),\n",
    "        layers.Dense(20, activation=\"sigmoid\"),\n",
    "        layers.Dense(20, activation=\"sigmoid\"),\n",
    "        layers.Dense(20, activation=\"sigmoid\"),\n",
    "        layers.Dense(num_classes, activation=\"softmax\"),\n",
    "    ]\n",
    ")\n",
    "\n",
    "model.summary()"
   ]
  },
  {
   "cell_type": "code",
   "execution_count": null,
   "id": "cea9489d",
   "metadata": {},
   "outputs": [],
   "source": [
    "### Train the model ###\n",
    "batch_size = 128\n",
    "epochs = 150\n",
    "\n",
    "model.compile(loss=\"categorical_crossentropy\", optimizer=\"adam\", metrics=[\"accuracy\"])\n",
    "\n",
    "model.fit(x_train, y_train, batch_size=batch_size, epochs=epochs, validation_split=0.1)"
   ]
  },
  {
   "cell_type": "code",
   "execution_count": null,
   "id": "5a7c5422",
   "metadata": {},
   "outputs": [],
   "source": [
    "### Evaluate the trained model ###\n",
    "score = model.evaluate(x_test, y_test, verbose=0)\n",
    "print(\"Test loss:\", score[0])\n",
    "print(\"Test accuracy:\", score[1])\n",
    "print()\n",
    "\n",
    "test = [[-1,0]]\n",
    "\n",
    "#display the produced category array\n",
    "print(model.predict(test))"
   ]
  },
  {
   "cell_type": "code",
   "execution_count": null,
   "id": "ce21b5c6",
   "metadata": {
    "scrolled": true
   },
   "outputs": [],
   "source": [
    "### Scan parameter space and examine NN output ###\n",
    "\n",
    "N = 100\n",
    "x_1 = np.linspace(min(x[:,0]),max(x[:,0]), N)\n",
    "x_2 = np.linspace(min(x[:,1]),max(x[:,1]), N)\n",
    "xx, yy = np.meshgrid(x_1, x_2)\n",
    "xx = xx.flatten()\n",
    "yy = yy.flatten()\n",
    "grid_data = np.array([xx,yy]).T\n",
    "\n",
    "c = model.predict(grid_data)[:,1]\n",
    "\n",
    "plt.scatter(grid_data[:,0], grid_data[:,1], c=c, cmap='rainbow')\n",
    "plt.show()"
   ]
  },
  {
   "cell_type": "code",
   "execution_count": null,
   "id": "8053e2d4",
   "metadata": {},
   "outputs": [],
   "source": []
  }
 ],
 "metadata": {
  "kernelspec": {
   "display_name": "Python 3 (ipykernel)",
   "language": "python",
   "name": "python3"
  },
  "language_info": {
   "codemirror_mode": {
    "name": "ipython",
    "version": 3
   },
   "file_extension": ".py",
   "mimetype": "text/x-python",
   "name": "python",
   "nbconvert_exporter": "python",
   "pygments_lexer": "ipython3",
   "version": "3.9.0"
  }
 },
 "nbformat": 4,
 "nbformat_minor": 5
}
